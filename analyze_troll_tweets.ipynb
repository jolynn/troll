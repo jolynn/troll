{
 "cells": [
  {
   "cell_type": "code",
   "execution_count": 72,
   "metadata": {
    "collapsed": false
   },
   "outputs": [
    {
     "name": "stderr",
     "output_type": "stream",
     "text": [
      "/Users/xzhuo/anaconda/lib/python2.7/site-packages/matplotlib/__init__.py:872: UserWarning: axes.color_cycle is deprecated and replaced with axes.prop_cycle; please use the latter.\n",
      "  warnings.warn(self.msg_depr % (key, alt_key))\n"
     ]
    }
   ],
   "source": [
    "%matplotlib inline\n",
    "\n",
    "import pandas as pd\n",
    "import numpy as np\n",
    "import matplotlib.pyplot as plt\n",
    "\n",
    "# set some nicer defaults for matplotlib\n",
    "from matplotlib import rcParams\n",
    "\n",
    "# These color come from classic color schemes\n",
    "corange = (255/float(255), 150/float(255), 24/float(255))\n",
    "cgreen = (33/float(255), 146/float(255), 49/float(255))\n",
    "cnavy = (16/float(255), 109/float(255), 156/float(255))\n",
    "csky = (8/float(255), 186/float(255), 255/float(255))\n",
    "cgray = (82/float(255), 101/float(255), 115/float(255))\n",
    "cred = (239/float(255), 8/float(255), 8/float(255))\n",
    "cblue = (8/float(255), 89/float(255), 156/float(255))\n",
    "ccrimson = (165/float(255), 28/float(255), 48/float(255))\n",
    "\n",
    "#these colors come from colorbrewer2.org. Each is an RGB triplet\n",
    "dark2_colors = [(0.10588235294117647, 0.6196078431372549, 0.4666666666666667),\n",
    "                (0.8509803921568627, 0.37254901960784315, 0.00784313725490196),\n",
    "                (0.4588235294117647, 0.4392156862745098, 0.7019607843137254),\n",
    "                (0.9058823529411765, 0.1607843137254902, 0.5411764705882353),\n",
    "                (0.4, 0.6509803921568628, 0.11764705882352941),\n",
    "                (0.9019607843137255, 0.6705882352941176, 0.00784313725490196),\n",
    "                (0.6509803921568628, 0.4627450980392157, 0.11372549019607843),\n",
    "                (0.4, 0.4, 0.4)]\n",
    "\n",
    "rcParams['figure.figsize'] = (10, 6)\n",
    "rcParams['figure.dpi'] = 150\n",
    "rcParams['axes.color_cycle'] = dark2_colors\n",
    "rcParams['lines.linewidth'] = 2\n",
    "rcParams['axes.grid'] = False\n",
    "rcParams['axes.facecolor'] = 'white'\n",
    "rcParams['font.size'] = 14\n",
    "rcParams['patch.edgecolor'] = 'none'\n",
    "\n",
    "\n",
    "def remove_border(axes=None, top=False, right=False, left=True, bottom=True):\n",
    "    \"\"\"\n",
    "    Minimize chartjunk by stripping out unnecessary plot borders and axis ticks\n",
    "    \n",
    "    The top/right/left/bottom keywords toggle whether the corresponding plot border is drawn\n",
    "    \"\"\"\n",
    "    ax = axes or plt.gca()\n",
    "    ax.spines['top'].set_visible(top)\n",
    "    ax.spines['right'].set_visible(right)\n",
    "    ax.spines['left'].set_visible(left)\n",
    "    ax.spines['bottom'].set_visible(bottom)\n",
    "    \n",
    "    #turn off all ticks\n",
    "    ax.yaxis.set_ticks_position('none')\n",
    "    ax.xaxis.set_ticks_position('none')\n",
    "    \n",
    "    #now re-enable visibles\n",
    "    if top:\n",
    "        ax.xaxis.tick_top()\n",
    "    if bottom:\n",
    "        ax.xaxis.tick_bottom()\n",
    "    if left:\n",
    "        ax.yaxis.tick_left()\n",
    "    if right:\n",
    "        ax.yaxis.tick_right()"
   ]
  },
  {
   "cell_type": "code",
   "execution_count": 2,
   "metadata": {
    "collapsed": false
   },
   "outputs": [
    {
     "data": {
      "text/html": [
       "<div>\n",
       "<table border=\"1\" class=\"dataframe\">\n",
       "  <thead>\n",
       "    <tr style=\"text-align: right;\">\n",
       "      <th></th>\n",
       "      <th>id</th>\n",
       "      <th>deleted</th>\n",
       "      <th>numTweets</th>\n",
       "      <th>numAuthors</th>\n",
       "      <th>numMentions</th>\n",
       "      <th>numLinks</th>\n",
       "      <th>numPics</th>\n",
       "      <th>numQuotedTweets</th>\n",
       "      <th>avgGap</th>\n",
       "      <th>medianGap</th>\n",
       "      <th>maxGap</th>\n",
       "      <th>duration</th>\n",
       "      <th>authors</th>\n",
       "      <th>mentions</th>\n",
       "      <th>type</th>\n",
       "      <th>new_type</th>\n",
       "      <th>complete</th>\n",
       "      <th>contains_deleted_tweets</th>\n",
       "    </tr>\n",
       "  </thead>\n",
       "  <tbody>\n",
       "    <tr>\n",
       "      <th>0</th>\n",
       "      <td>8.360000e+17</td>\n",
       "      <td>0.0</td>\n",
       "      <td>2.0</td>\n",
       "      <td>2.0</td>\n",
       "      <td>1.0</td>\n",
       "      <td>0.0</td>\n",
       "      <td>0.0</td>\n",
       "      <td>0.0</td>\n",
       "      <td>104.000000</td>\n",
       "      <td>104.0</td>\n",
       "      <td>104.0</td>\n",
       "      <td>104.0</td>\n",
       "      <td>@indianshadab,@kamaalrkhan</td>\n",
       "      <td>@kamaalrkhan</td>\n",
       "      <td>1</td>\n",
       "      <td>1</td>\n",
       "      <td>1</td>\n",
       "      <td>NaN</td>\n",
       "    </tr>\n",
       "    <tr>\n",
       "      <th>1</th>\n",
       "      <td>8.360000e+17</td>\n",
       "      <td>0.0</td>\n",
       "      <td>3.0</td>\n",
       "      <td>3.0</td>\n",
       "      <td>2.0</td>\n",
       "      <td>1.0</td>\n",
       "      <td>0.0</td>\n",
       "      <td>1.0</td>\n",
       "      <td>5.000000</td>\n",
       "      <td>5.0</td>\n",
       "      <td>8.0</td>\n",
       "      <td>10.0</td>\n",
       "      <td>@RednaxalA,@RonKyle4203,@worldhates</td>\n",
       "      <td>@RednaxalA,@worldhates</td>\n",
       "      <td>2</td>\n",
       "      <td>2</td>\n",
       "      <td>1</td>\n",
       "      <td>NaN</td>\n",
       "    </tr>\n",
       "    <tr>\n",
       "      <th>2</th>\n",
       "      <td>8.360000e+17</td>\n",
       "      <td>0.0</td>\n",
       "      <td>1.0</td>\n",
       "      <td>1.0</td>\n",
       "      <td>2.0</td>\n",
       "      <td>0.0</td>\n",
       "      <td>0.0</td>\n",
       "      <td>0.0</td>\n",
       "      <td>NaN</td>\n",
       "      <td>NaN</td>\n",
       "      <td>NaN</td>\n",
       "      <td>NaN</td>\n",
       "      <td>@ShivajiRana1974</td>\n",
       "      <td>@SirJadeja,@virendersehwag</td>\n",
       "      <td>1</td>\n",
       "      <td>4</td>\n",
       "      <td>1</td>\n",
       "      <td>NaN</td>\n",
       "    </tr>\n",
       "    <tr>\n",
       "      <th>3</th>\n",
       "      <td>8.360000e+17</td>\n",
       "      <td>0.0</td>\n",
       "      <td>2.0</td>\n",
       "      <td>2.0</td>\n",
       "      <td>3.0</td>\n",
       "      <td>0.0</td>\n",
       "      <td>2.0</td>\n",
       "      <td>0.0</td>\n",
       "      <td>921.000000</td>\n",
       "      <td>921.0</td>\n",
       "      <td>921.0</td>\n",
       "      <td>921.0</td>\n",
       "      <td>@TheComedian_13,@john_gibbs48</td>\n",
       "      <td>@KellyannePolls,@TheComedian_13,@sal1948</td>\n",
       "      <td>3</td>\n",
       "      <td>-1</td>\n",
       "      <td>1</td>\n",
       "      <td>NaN</td>\n",
       "    </tr>\n",
       "    <tr>\n",
       "      <th>4</th>\n",
       "      <td>8.360000e+17</td>\n",
       "      <td>0.0</td>\n",
       "      <td>8.0</td>\n",
       "      <td>1.0</td>\n",
       "      <td>1.0</td>\n",
       "      <td>0.0</td>\n",
       "      <td>2.0</td>\n",
       "      <td>0.0</td>\n",
       "      <td>4.428571</td>\n",
       "      <td>4.0</td>\n",
       "      <td>8.0</td>\n",
       "      <td>31.0</td>\n",
       "      <td>@mikesonn</td>\n",
       "      <td>@danschoenmn</td>\n",
       "      <td>4</td>\n",
       "      <td>-2</td>\n",
       "      <td>1</td>\n",
       "      <td>NaN</td>\n",
       "    </tr>\n",
       "  </tbody>\n",
       "</table>\n",
       "</div>"
      ],
      "text/plain": [
       "             id  deleted  numTweets  numAuthors  numMentions  numLinks  \\\n",
       "0  8.360000e+17      0.0        2.0         2.0          1.0       0.0   \n",
       "1  8.360000e+17      0.0        3.0         3.0          2.0       1.0   \n",
       "2  8.360000e+17      0.0        1.0         1.0          2.0       0.0   \n",
       "3  8.360000e+17      0.0        2.0         2.0          3.0       0.0   \n",
       "4  8.360000e+17      0.0        8.0         1.0          1.0       0.0   \n",
       "\n",
       "   numPics  numQuotedTweets      avgGap  medianGap  maxGap  duration  \\\n",
       "0      0.0              0.0  104.000000      104.0   104.0     104.0   \n",
       "1      0.0              1.0    5.000000        5.0     8.0      10.0   \n",
       "2      0.0              0.0         NaN        NaN     NaN       NaN   \n",
       "3      2.0              0.0  921.000000      921.0   921.0     921.0   \n",
       "4      2.0              0.0    4.428571        4.0     8.0      31.0   \n",
       "\n",
       "                               authors  \\\n",
       "0           @indianshadab,@kamaalrkhan   \n",
       "1  @RednaxalA,@RonKyle4203,@worldhates   \n",
       "2                     @ShivajiRana1974   \n",
       "3        @TheComedian_13,@john_gibbs48   \n",
       "4                            @mikesonn   \n",
       "\n",
       "                                   mentions type new_type complete  \\\n",
       "0                              @kamaalrkhan    1        1        1   \n",
       "1                    @RednaxalA,@worldhates    2        2        1   \n",
       "2                @SirJadeja,@virendersehwag    1        4        1   \n",
       "3  @KellyannePolls,@TheComedian_13,@sal1948    3       -1        1   \n",
       "4                              @danschoenmn    4       -2        1   \n",
       "\n",
       "   contains_deleted_tweets  \n",
       "0                      NaN  \n",
       "1                      NaN  \n",
       "2                      NaN  \n",
       "3                      NaN  \n",
       "4                      NaN  "
      ]
     },
     "execution_count": 2,
     "metadata": {},
     "output_type": "execute_result"
    }
   ],
   "source": [
    "df = pd.read_csv('tweet_stats.csv')\n",
    "df.head()"
   ]
  },
  {
   "cell_type": "code",
   "execution_count": 53,
   "metadata": {
    "collapsed": false
   },
   "outputs": [
    {
     "name": "stdout",
     "output_type": "stream",
     "text": [
      "(136, 18)\n"
     ]
    }
   ],
   "source": [
    "subdf = df[:136]\n",
    "#subdf = df[~pd.isnull(df.new_type)]\n",
    "print subdf.shape"
   ]
  },
  {
   "cell_type": "code",
   "execution_count": 54,
   "metadata": {
    "collapsed": false
   },
   "outputs": [],
   "source": [
    "gby = subdf.groupby('new_type')"
   ]
  },
  {
   "cell_type": "code",
   "execution_count": 55,
   "metadata": {
    "collapsed": false
   },
   "outputs": [
    {
     "data": {
      "text/html": [
       "<div>\n",
       "<table border=\"1\" class=\"dataframe\">\n",
       "  <thead>\n",
       "    <tr style=\"text-align: right;\">\n",
       "      <th></th>\n",
       "      <th>id</th>\n",
       "      <th>deleted</th>\n",
       "      <th>numTweets</th>\n",
       "      <th>numAuthors</th>\n",
       "      <th>numMentions</th>\n",
       "      <th>numLinks</th>\n",
       "      <th>numPics</th>\n",
       "      <th>numQuotedTweets</th>\n",
       "      <th>avgGap</th>\n",
       "      <th>medianGap</th>\n",
       "      <th>maxGap</th>\n",
       "      <th>duration</th>\n",
       "      <th>authors</th>\n",
       "      <th>mentions</th>\n",
       "      <th>type</th>\n",
       "      <th>complete</th>\n",
       "      <th>contains_deleted_tweets</th>\n",
       "    </tr>\n",
       "    <tr>\n",
       "      <th>new_type</th>\n",
       "      <th></th>\n",
       "      <th></th>\n",
       "      <th></th>\n",
       "      <th></th>\n",
       "      <th></th>\n",
       "      <th></th>\n",
       "      <th></th>\n",
       "      <th></th>\n",
       "      <th></th>\n",
       "      <th></th>\n",
       "      <th></th>\n",
       "      <th></th>\n",
       "      <th></th>\n",
       "      <th></th>\n",
       "      <th></th>\n",
       "      <th></th>\n",
       "      <th></th>\n",
       "    </tr>\n",
       "  </thead>\n",
       "  <tbody>\n",
       "    <tr>\n",
       "      <th>-1</th>\n",
       "      <td>22</td>\n",
       "      <td>22</td>\n",
       "      <td>22</td>\n",
       "      <td>22</td>\n",
       "      <td>22</td>\n",
       "      <td>22</td>\n",
       "      <td>22</td>\n",
       "      <td>22</td>\n",
       "      <td>15</td>\n",
       "      <td>15</td>\n",
       "      <td>15</td>\n",
       "      <td>15</td>\n",
       "      <td>22</td>\n",
       "      <td>22</td>\n",
       "      <td>9</td>\n",
       "      <td>22</td>\n",
       "      <td>0</td>\n",
       "    </tr>\n",
       "    <tr>\n",
       "      <th>-2</th>\n",
       "      <td>1</td>\n",
       "      <td>1</td>\n",
       "      <td>1</td>\n",
       "      <td>1</td>\n",
       "      <td>1</td>\n",
       "      <td>1</td>\n",
       "      <td>1</td>\n",
       "      <td>1</td>\n",
       "      <td>1</td>\n",
       "      <td>1</td>\n",
       "      <td>1</td>\n",
       "      <td>1</td>\n",
       "      <td>1</td>\n",
       "      <td>1</td>\n",
       "      <td>1</td>\n",
       "      <td>1</td>\n",
       "      <td>0</td>\n",
       "    </tr>\n",
       "    <tr>\n",
       "      <th>-3</th>\n",
       "      <td>4</td>\n",
       "      <td>4</td>\n",
       "      <td>4</td>\n",
       "      <td>4</td>\n",
       "      <td>4</td>\n",
       "      <td>4</td>\n",
       "      <td>4</td>\n",
       "      <td>4</td>\n",
       "      <td>3</td>\n",
       "      <td>3</td>\n",
       "      <td>3</td>\n",
       "      <td>3</td>\n",
       "      <td>4</td>\n",
       "      <td>4</td>\n",
       "      <td>3</td>\n",
       "      <td>4</td>\n",
       "      <td>0</td>\n",
       "    </tr>\n",
       "    <tr>\n",
       "      <th>-4</th>\n",
       "      <td>8</td>\n",
       "      <td>8</td>\n",
       "      <td>8</td>\n",
       "      <td>8</td>\n",
       "      <td>8</td>\n",
       "      <td>8</td>\n",
       "      <td>8</td>\n",
       "      <td>8</td>\n",
       "      <td>3</td>\n",
       "      <td>3</td>\n",
       "      <td>3</td>\n",
       "      <td>3</td>\n",
       "      <td>8</td>\n",
       "      <td>8</td>\n",
       "      <td>5</td>\n",
       "      <td>8</td>\n",
       "      <td>0</td>\n",
       "    </tr>\n",
       "    <tr>\n",
       "      <th>-5</th>\n",
       "      <td>5</td>\n",
       "      <td>5</td>\n",
       "      <td>5</td>\n",
       "      <td>5</td>\n",
       "      <td>5</td>\n",
       "      <td>5</td>\n",
       "      <td>5</td>\n",
       "      <td>5</td>\n",
       "      <td>4</td>\n",
       "      <td>4</td>\n",
       "      <td>4</td>\n",
       "      <td>4</td>\n",
       "      <td>5</td>\n",
       "      <td>5</td>\n",
       "      <td>3</td>\n",
       "      <td>5</td>\n",
       "      <td>0</td>\n",
       "    </tr>\n",
       "    <tr>\n",
       "      <th>-6</th>\n",
       "      <td>3</td>\n",
       "      <td>3</td>\n",
       "      <td>3</td>\n",
       "      <td>3</td>\n",
       "      <td>3</td>\n",
       "      <td>3</td>\n",
       "      <td>3</td>\n",
       "      <td>3</td>\n",
       "      <td>3</td>\n",
       "      <td>3</td>\n",
       "      <td>3</td>\n",
       "      <td>3</td>\n",
       "      <td>3</td>\n",
       "      <td>3</td>\n",
       "      <td>1</td>\n",
       "      <td>3</td>\n",
       "      <td>0</td>\n",
       "    </tr>\n",
       "    <tr>\n",
       "      <th>-7</th>\n",
       "      <td>14</td>\n",
       "      <td>14</td>\n",
       "      <td>14</td>\n",
       "      <td>14</td>\n",
       "      <td>14</td>\n",
       "      <td>14</td>\n",
       "      <td>14</td>\n",
       "      <td>14</td>\n",
       "      <td>8</td>\n",
       "      <td>8</td>\n",
       "      <td>8</td>\n",
       "      <td>8</td>\n",
       "      <td>14</td>\n",
       "      <td>14</td>\n",
       "      <td>0</td>\n",
       "      <td>14</td>\n",
       "      <td>0</td>\n",
       "    </tr>\n",
       "    <tr>\n",
       "      <th>0</th>\n",
       "      <td>1</td>\n",
       "      <td>1</td>\n",
       "      <td>1</td>\n",
       "      <td>1</td>\n",
       "      <td>1</td>\n",
       "      <td>1</td>\n",
       "      <td>1</td>\n",
       "      <td>1</td>\n",
       "      <td>1</td>\n",
       "      <td>1</td>\n",
       "      <td>1</td>\n",
       "      <td>1</td>\n",
       "      <td>1</td>\n",
       "      <td>1</td>\n",
       "      <td>0</td>\n",
       "      <td>1</td>\n",
       "      <td>0</td>\n",
       "    </tr>\n",
       "    <tr>\n",
       "      <th>1</th>\n",
       "      <td>15</td>\n",
       "      <td>15</td>\n",
       "      <td>15</td>\n",
       "      <td>15</td>\n",
       "      <td>15</td>\n",
       "      <td>15</td>\n",
       "      <td>15</td>\n",
       "      <td>15</td>\n",
       "      <td>14</td>\n",
       "      <td>14</td>\n",
       "      <td>14</td>\n",
       "      <td>14</td>\n",
       "      <td>15</td>\n",
       "      <td>15</td>\n",
       "      <td>9</td>\n",
       "      <td>15</td>\n",
       "      <td>0</td>\n",
       "    </tr>\n",
       "    <tr>\n",
       "      <th>1,-1</th>\n",
       "      <td>1</td>\n",
       "      <td>1</td>\n",
       "      <td>1</td>\n",
       "      <td>1</td>\n",
       "      <td>1</td>\n",
       "      <td>1</td>\n",
       "      <td>1</td>\n",
       "      <td>1</td>\n",
       "      <td>0</td>\n",
       "      <td>0</td>\n",
       "      <td>0</td>\n",
       "      <td>0</td>\n",
       "      <td>1</td>\n",
       "      <td>1</td>\n",
       "      <td>1</td>\n",
       "      <td>1</td>\n",
       "      <td>0</td>\n",
       "    </tr>\n",
       "    <tr>\n",
       "      <th>1,-7</th>\n",
       "      <td>3</td>\n",
       "      <td>3</td>\n",
       "      <td>3</td>\n",
       "      <td>3</td>\n",
       "      <td>3</td>\n",
       "      <td>3</td>\n",
       "      <td>3</td>\n",
       "      <td>3</td>\n",
       "      <td>3</td>\n",
       "      <td>3</td>\n",
       "      <td>3</td>\n",
       "      <td>3</td>\n",
       "      <td>3</td>\n",
       "      <td>3</td>\n",
       "      <td>0</td>\n",
       "      <td>3</td>\n",
       "      <td>0</td>\n",
       "    </tr>\n",
       "    <tr>\n",
       "      <th>2</th>\n",
       "      <td>6</td>\n",
       "      <td>6</td>\n",
       "      <td>6</td>\n",
       "      <td>6</td>\n",
       "      <td>6</td>\n",
       "      <td>6</td>\n",
       "      <td>6</td>\n",
       "      <td>6</td>\n",
       "      <td>5</td>\n",
       "      <td>5</td>\n",
       "      <td>5</td>\n",
       "      <td>5</td>\n",
       "      <td>6</td>\n",
       "      <td>6</td>\n",
       "      <td>3</td>\n",
       "      <td>6</td>\n",
       "      <td>1</td>\n",
       "    </tr>\n",
       "    <tr>\n",
       "      <th>2,-6</th>\n",
       "      <td>1</td>\n",
       "      <td>1</td>\n",
       "      <td>1</td>\n",
       "      <td>1</td>\n",
       "      <td>1</td>\n",
       "      <td>1</td>\n",
       "      <td>1</td>\n",
       "      <td>1</td>\n",
       "      <td>1</td>\n",
       "      <td>1</td>\n",
       "      <td>1</td>\n",
       "      <td>1</td>\n",
       "      <td>1</td>\n",
       "      <td>1</td>\n",
       "      <td>1</td>\n",
       "      <td>1</td>\n",
       "      <td>0</td>\n",
       "    </tr>\n",
       "    <tr>\n",
       "      <th>2,3</th>\n",
       "      <td>1</td>\n",
       "      <td>1</td>\n",
       "      <td>1</td>\n",
       "      <td>1</td>\n",
       "      <td>1</td>\n",
       "      <td>1</td>\n",
       "      <td>1</td>\n",
       "      <td>1</td>\n",
       "      <td>1</td>\n",
       "      <td>1</td>\n",
       "      <td>1</td>\n",
       "      <td>1</td>\n",
       "      <td>1</td>\n",
       "      <td>1</td>\n",
       "      <td>0</td>\n",
       "      <td>1</td>\n",
       "      <td>0</td>\n",
       "    </tr>\n",
       "    <tr>\n",
       "      <th>3</th>\n",
       "      <td>28</td>\n",
       "      <td>28</td>\n",
       "      <td>28</td>\n",
       "      <td>28</td>\n",
       "      <td>28</td>\n",
       "      <td>28</td>\n",
       "      <td>28</td>\n",
       "      <td>28</td>\n",
       "      <td>28</td>\n",
       "      <td>28</td>\n",
       "      <td>28</td>\n",
       "      <td>28</td>\n",
       "      <td>28</td>\n",
       "      <td>28</td>\n",
       "      <td>12</td>\n",
       "      <td>28</td>\n",
       "      <td>1</td>\n",
       "    </tr>\n",
       "    <tr>\n",
       "      <th>3,4</th>\n",
       "      <td>3</td>\n",
       "      <td>3</td>\n",
       "      <td>3</td>\n",
       "      <td>3</td>\n",
       "      <td>3</td>\n",
       "      <td>3</td>\n",
       "      <td>3</td>\n",
       "      <td>3</td>\n",
       "      <td>3</td>\n",
       "      <td>3</td>\n",
       "      <td>3</td>\n",
       "      <td>3</td>\n",
       "      <td>3</td>\n",
       "      <td>3</td>\n",
       "      <td>0</td>\n",
       "      <td>3</td>\n",
       "      <td>0</td>\n",
       "    </tr>\n",
       "    <tr>\n",
       "      <th>4</th>\n",
       "      <td>15</td>\n",
       "      <td>15</td>\n",
       "      <td>15</td>\n",
       "      <td>15</td>\n",
       "      <td>15</td>\n",
       "      <td>15</td>\n",
       "      <td>15</td>\n",
       "      <td>15</td>\n",
       "      <td>13</td>\n",
       "      <td>13</td>\n",
       "      <td>13</td>\n",
       "      <td>13</td>\n",
       "      <td>15</td>\n",
       "      <td>15</td>\n",
       "      <td>8</td>\n",
       "      <td>15</td>\n",
       "      <td>0</td>\n",
       "    </tr>\n",
       "    <tr>\n",
       "      <th>4,-6</th>\n",
       "      <td>1</td>\n",
       "      <td>1</td>\n",
       "      <td>1</td>\n",
       "      <td>1</td>\n",
       "      <td>1</td>\n",
       "      <td>1</td>\n",
       "      <td>1</td>\n",
       "      <td>1</td>\n",
       "      <td>1</td>\n",
       "      <td>1</td>\n",
       "      <td>1</td>\n",
       "      <td>1</td>\n",
       "      <td>1</td>\n",
       "      <td>1</td>\n",
       "      <td>1</td>\n",
       "      <td>1</td>\n",
       "      <td>0</td>\n",
       "    </tr>\n",
       "    <tr>\n",
       "      <th>5</th>\n",
       "      <td>2</td>\n",
       "      <td>2</td>\n",
       "      <td>2</td>\n",
       "      <td>2</td>\n",
       "      <td>2</td>\n",
       "      <td>2</td>\n",
       "      <td>2</td>\n",
       "      <td>2</td>\n",
       "      <td>2</td>\n",
       "      <td>2</td>\n",
       "      <td>2</td>\n",
       "      <td>2</td>\n",
       "      <td>2</td>\n",
       "      <td>2</td>\n",
       "      <td>1</td>\n",
       "      <td>2</td>\n",
       "      <td>0</td>\n",
       "    </tr>\n",
       "  </tbody>\n",
       "</table>\n",
       "</div>"
      ],
      "text/plain": [
       "          id  deleted  numTweets  numAuthors  numMentions  numLinks  numPics  \\\n",
       "new_type                                                                       \n",
       "-1        22       22         22          22           22        22       22   \n",
       "-2         1        1          1           1            1         1        1   \n",
       "-3         4        4          4           4            4         4        4   \n",
       "-4         8        8          8           8            8         8        8   \n",
       "-5         5        5          5           5            5         5        5   \n",
       "-6         3        3          3           3            3         3        3   \n",
       "-7        14       14         14          14           14        14       14   \n",
       "0          1        1          1           1            1         1        1   \n",
       "1         15       15         15          15           15        15       15   \n",
       "1,-1       1        1          1           1            1         1        1   \n",
       "1,-7       3        3          3           3            3         3        3   \n",
       "2          6        6          6           6            6         6        6   \n",
       "2,-6       1        1          1           1            1         1        1   \n",
       "2,3        1        1          1           1            1         1        1   \n",
       "3         28       28         28          28           28        28       28   \n",
       "3,4        3        3          3           3            3         3        3   \n",
       "4         15       15         15          15           15        15       15   \n",
       "4,-6       1        1          1           1            1         1        1   \n",
       "5          2        2          2           2            2         2        2   \n",
       "\n",
       "          numQuotedTweets  avgGap  medianGap  maxGap  duration  authors  \\\n",
       "new_type                                                                  \n",
       "-1                     22      15         15      15        15       22   \n",
       "-2                      1       1          1       1         1        1   \n",
       "-3                      4       3          3       3         3        4   \n",
       "-4                      8       3          3       3         3        8   \n",
       "-5                      5       4          4       4         4        5   \n",
       "-6                      3       3          3       3         3        3   \n",
       "-7                     14       8          8       8         8       14   \n",
       "0                       1       1          1       1         1        1   \n",
       "1                      15      14         14      14        14       15   \n",
       "1,-1                    1       0          0       0         0        1   \n",
       "1,-7                    3       3          3       3         3        3   \n",
       "2                       6       5          5       5         5        6   \n",
       "2,-6                    1       1          1       1         1        1   \n",
       "2,3                     1       1          1       1         1        1   \n",
       "3                      28      28         28      28        28       28   \n",
       "3,4                     3       3          3       3         3        3   \n",
       "4                      15      13         13      13        13       15   \n",
       "4,-6                    1       1          1       1         1        1   \n",
       "5                       2       2          2       2         2        2   \n",
       "\n",
       "          mentions  type  complete  contains_deleted_tweets  \n",
       "new_type                                                     \n",
       "-1              22     9        22                        0  \n",
       "-2               1     1         1                        0  \n",
       "-3               4     3         4                        0  \n",
       "-4               8     5         8                        0  \n",
       "-5               5     3         5                        0  \n",
       "-6               3     1         3                        0  \n",
       "-7              14     0        14                        0  \n",
       "0                1     0         1                        0  \n",
       "1               15     9        15                        0  \n",
       "1,-1             1     1         1                        0  \n",
       "1,-7             3     0         3                        0  \n",
       "2                6     3         6                        1  \n",
       "2,-6             1     1         1                        0  \n",
       "2,3              1     0         1                        0  \n",
       "3               28    12        28                        1  \n",
       "3,4              3     0         3                        0  \n",
       "4               15     8        15                        0  \n",
       "4,-6             1     1         1                        0  \n",
       "5                2     1         2                        0  "
      ]
     },
     "execution_count": 55,
     "metadata": {},
     "output_type": "execute_result"
    }
   ],
   "source": [
    "gby.count()"
   ]
  },
  {
   "cell_type": "markdown",
   "metadata": {},
   "source": [
    "### Match dataframe with conversation texts"
   ]
  },
  {
   "cell_type": "code",
   "execution_count": 13,
   "metadata": {
    "collapsed": false
   },
   "outputs": [
    {
     "data": {
      "text/plain": [
       "['https://twitter.com/indianshadab/status/836269307524968448\\n',\n",
       " '7:54 AM - 27 Feb 2017 @kamaalrkhan: We always dont have to defend ourselves with words, Sometimes our silence tells, that we have better thoughts n a better mind. Goodnight!\\n',\n",
       " '9:38 AM - 27 Feb 2017 @indianshadab: @kamaalrkhan Dear #KRK sir people wants u 2 troll thats why they r not liking these great thoughts and tweets  so go with flow..\\n',\n",
       " '\\n',\n",
       " 'https://twitter.com/RonKyle4203/status/836269272649224192\\n']"
      ]
     },
     "execution_count": 13,
     "metadata": {},
     "output_type": "execute_result"
    }
   ],
   "source": [
    "with open('troll_tweets.txt') as f:\n",
    "    content = f.readlines()\n",
    "    \n",
    "content[:5]"
   ]
  },
  {
   "cell_type": "code",
   "execution_count": 14,
   "metadata": {
    "collapsed": false
   },
   "outputs": [
    {
     "data": {
      "text/plain": [
       "'https://twitter.com/indianshadab/status/836269307524968448\\n7:54 AM - 27 Feb 2017 @kamaalrkhan: We always dont have to defend ourselves with words, Sometimes our silence tells, that we have better thoughts n a better mind. Goodnight!\\n9:38 AM - 27 Feb 2017 @indianshadab: @kamaalrkhan Dear #KRK sir people wants u 2 troll thats why they r not liking these great thoughts and tweets  so go with flow..\\n\\nhttps://twitter.com/RonKyle4203/status/836269272649224192\\n9:28 AM - 27 Feb 2017 @RednaxalA: Globalists support Pedophilia  Human trafficing.\\n#mondaymotivation George W. Bush #envelopegate Russia in 10 Philando Castilehttps://twitter.com/RepStevenSmith/status/836214965551923200\\xe2\\x80\\xa6 \"The @nytimes defends pedophilia and gets champagne toasts at Hollywood galas. \\n\\n@wikileaks defends freedom and gets death threats. pic.twitter.com/Y5sjjBXony\"\\n9:30 AM - 27 Feb 2017 @worldhates: @RednaxalA You one of those pizza gate nuts?\\n9:38 AM - 27 Feb 2017 @RonKyle4203: @worldhates @RednaxalA 11 followers.  LOL!!'"
      ]
     },
     "execution_count": 14,
     "metadata": {},
     "output_type": "execute_result"
    }
   ],
   "source": [
    "content = ''.join(content)"
   ]
  },
  {
   "cell_type": "code",
   "execution_count": 36,
   "metadata": {
    "collapsed": true
   },
   "outputs": [],
   "source": [
    "edited_convs = []\n",
    "for i in range(150):\n",
    "    if convs[i].startswith('https://twitter.com/'):    \n",
    "        item = convs[i]\n",
    "        j = 1\n",
    "        while not convs[i+j].startswith('https://twitter.com/'):\n",
    "            item += convs[i+j]\n",
    "            j += 1\n",
    "\n",
    "        edited_convs.append(item)"
   ]
  },
  {
   "cell_type": "code",
   "execution_count": 38,
   "metadata": {
    "collapsed": false
   },
   "outputs": [
    {
     "data": {
      "text/plain": [
       "137"
      ]
     },
     "execution_count": 38,
     "metadata": {},
     "output_type": "execute_result"
    }
   ],
   "source": [
    "len(edited_convs)"
   ]
  },
  {
   "cell_type": "code",
   "execution_count": 48,
   "metadata": {
    "collapsed": false
   },
   "outputs": [
    {
     "data": {
      "text/plain": [
       "'https://twitter.com/indianshadab/status/836269307524968448\\n7:54 AM - 27 Feb 2017 @kamaalrkhan: We always dont have to defend ourselves with words, Sometimes our silence tells, that we have better thoughts n a better mind. Goodnight!\\n9:38 AM - 27 Feb 2017 @indianshadab: @kamaalrkhan Dear #KRK sir people wants u 2 troll thats why they r not liking these great thoughts and tweets  so go with flow..'"
      ]
     },
     "execution_count": 48,
     "metadata": {},
     "output_type": "execute_result"
    }
   ],
   "source": [
    "edited_convs[0]"
   ]
  },
  {
   "cell_type": "code",
   "execution_count": 49,
   "metadata": {
    "collapsed": false
   },
   "outputs": [
    {
     "data": {
      "text/plain": [
       "['https://twitter.com/indianshadab/status/836269307524968448',\n",
       " '7:54 AM - 27 Feb 2017 @kamaalrkhan: We always dont have to defend ourselves with words, Sometimes our silence tells, that we have better thoughts n a better mind. Goodnight!\\n9:38 AM - 27 Feb 2017 @indianshadab: @kamaalrkhan Dear #KRK sir people wants u 2 troll thats why they r not liking these great thoughts and tweets  so go with flow..']"
      ]
     },
     "execution_count": 49,
     "metadata": {},
     "output_type": "execute_result"
    }
   ],
   "source": [
    "edited_convs[0].split('\\n', 1)"
   ]
  },
  {
   "cell_type": "code",
   "execution_count": 58,
   "metadata": {
    "collapsed": false
   },
   "outputs": [
    {
     "name": "stderr",
     "output_type": "stream",
     "text": [
      "/Users/xzhuo/anaconda/lib/python2.7/site-packages/ipykernel/__main__.py:6: SettingWithCopyWarning: \n",
      "A value is trying to be set on a copy of a slice from a DataFrame.\n",
      "Try using .loc[row_indexer,col_indexer] = value instead\n",
      "\n",
      "See the caveats in the documentation: http://pandas.pydata.org/pandas-docs/stable/indexing.html#indexing-view-versus-copy\n",
      "/Users/xzhuo/anaconda/lib/python2.7/site-packages/ipykernel/__main__.py:7: SettingWithCopyWarning: \n",
      "A value is trying to be set on a copy of a slice from a DataFrame.\n",
      "Try using .loc[row_indexer,col_indexer] = value instead\n",
      "\n",
      "See the caveats in the documentation: http://pandas.pydata.org/pandas-docs/stable/indexing.html#indexing-view-versus-copy\n"
     ]
    },
    {
     "data": {
      "text/html": [
       "<div>\n",
       "<table border=\"1\" class=\"dataframe\">\n",
       "  <thead>\n",
       "    <tr style=\"text-align: right;\">\n",
       "      <th></th>\n",
       "      <th>id</th>\n",
       "      <th>deleted</th>\n",
       "      <th>numTweets</th>\n",
       "      <th>numAuthors</th>\n",
       "      <th>numMentions</th>\n",
       "      <th>numLinks</th>\n",
       "      <th>numPics</th>\n",
       "      <th>numQuotedTweets</th>\n",
       "      <th>avgGap</th>\n",
       "      <th>medianGap</th>\n",
       "      <th>maxGap</th>\n",
       "      <th>duration</th>\n",
       "      <th>authors</th>\n",
       "      <th>mentions</th>\n",
       "      <th>type</th>\n",
       "      <th>new_type</th>\n",
       "      <th>complete</th>\n",
       "      <th>contains_deleted_tweets</th>\n",
       "      <th>url</th>\n",
       "      <th>text</th>\n",
       "    </tr>\n",
       "  </thead>\n",
       "  <tbody>\n",
       "    <tr>\n",
       "      <th>0</th>\n",
       "      <td>8.360000e+17</td>\n",
       "      <td>0.0</td>\n",
       "      <td>2.0</td>\n",
       "      <td>2.0</td>\n",
       "      <td>1.0</td>\n",
       "      <td>0.0</td>\n",
       "      <td>0.0</td>\n",
       "      <td>0.0</td>\n",
       "      <td>104.000000</td>\n",
       "      <td>104.0</td>\n",
       "      <td>104.0</td>\n",
       "      <td>104.0</td>\n",
       "      <td>@indianshadab,@kamaalrkhan</td>\n",
       "      <td>@kamaalrkhan</td>\n",
       "      <td>1</td>\n",
       "      <td>1</td>\n",
       "      <td>1</td>\n",
       "      <td>NaN</td>\n",
       "      <td>https://twitter.com/indianshadab/status/836269...</td>\n",
       "      <td>7:54 AM - 27 Feb 2017 @kamaalrkhan: We always ...</td>\n",
       "    </tr>\n",
       "    <tr>\n",
       "      <th>1</th>\n",
       "      <td>8.360000e+17</td>\n",
       "      <td>0.0</td>\n",
       "      <td>3.0</td>\n",
       "      <td>3.0</td>\n",
       "      <td>2.0</td>\n",
       "      <td>1.0</td>\n",
       "      <td>0.0</td>\n",
       "      <td>1.0</td>\n",
       "      <td>5.000000</td>\n",
       "      <td>5.0</td>\n",
       "      <td>8.0</td>\n",
       "      <td>10.0</td>\n",
       "      <td>@RednaxalA,@RonKyle4203,@worldhates</td>\n",
       "      <td>@RednaxalA,@worldhates</td>\n",
       "      <td>2</td>\n",
       "      <td>2</td>\n",
       "      <td>1</td>\n",
       "      <td>NaN</td>\n",
       "      <td>https://twitter.com/RonKyle4203/status/8362692...</td>\n",
       "      <td>9:28 AM - 27 Feb 2017 @RednaxalA: Globalists s...</td>\n",
       "    </tr>\n",
       "    <tr>\n",
       "      <th>2</th>\n",
       "      <td>8.360000e+17</td>\n",
       "      <td>0.0</td>\n",
       "      <td>1.0</td>\n",
       "      <td>1.0</td>\n",
       "      <td>2.0</td>\n",
       "      <td>0.0</td>\n",
       "      <td>0.0</td>\n",
       "      <td>0.0</td>\n",
       "      <td>NaN</td>\n",
       "      <td>NaN</td>\n",
       "      <td>NaN</td>\n",
       "      <td>NaN</td>\n",
       "      <td>@ShivajiRana1974</td>\n",
       "      <td>@SirJadeja,@virendersehwag</td>\n",
       "      <td>1</td>\n",
       "      <td>4</td>\n",
       "      <td>1</td>\n",
       "      <td>NaN</td>\n",
       "      <td>https://twitter.com/ShivajiRana1974/status/836...</td>\n",
       "      <td>9:38 AM - 27 Feb 2017 @ShivajiRana1974: @viren...</td>\n",
       "    </tr>\n",
       "    <tr>\n",
       "      <th>3</th>\n",
       "      <td>8.360000e+17</td>\n",
       "      <td>0.0</td>\n",
       "      <td>2.0</td>\n",
       "      <td>2.0</td>\n",
       "      <td>3.0</td>\n",
       "      <td>0.0</td>\n",
       "      <td>2.0</td>\n",
       "      <td>0.0</td>\n",
       "      <td>921.000000</td>\n",
       "      <td>921.0</td>\n",
       "      <td>921.0</td>\n",
       "      <td>921.0</td>\n",
       "      <td>@TheComedian_13,@john_gibbs48</td>\n",
       "      <td>@KellyannePolls,@TheComedian_13,@sal1948</td>\n",
       "      <td>3</td>\n",
       "      <td>-1</td>\n",
       "      <td>1</td>\n",
       "      <td>NaN</td>\n",
       "      <td>https://twitter.com/john_gibbs48/status/836269...</td>\n",
       "      <td>6:17 PM - 26 Feb 2017 @TheComedian_13: We will...</td>\n",
       "    </tr>\n",
       "    <tr>\n",
       "      <th>4</th>\n",
       "      <td>8.360000e+17</td>\n",
       "      <td>0.0</td>\n",
       "      <td>8.0</td>\n",
       "      <td>1.0</td>\n",
       "      <td>1.0</td>\n",
       "      <td>0.0</td>\n",
       "      <td>2.0</td>\n",
       "      <td>0.0</td>\n",
       "      <td>4.428571</td>\n",
       "      <td>4.0</td>\n",
       "      <td>8.0</td>\n",
       "      <td>31.0</td>\n",
       "      <td>@mikesonn</td>\n",
       "      <td>@danschoenmn</td>\n",
       "      <td>4</td>\n",
       "      <td>-2</td>\n",
       "      <td>1</td>\n",
       "      <td>NaN</td>\n",
       "      <td>https://twitter.com/mikesonn/status/8362692362...</td>\n",
       "      <td>9:07 AM - 27 Feb 2017 @mikesonn: Sunday salesp...</td>\n",
       "    </tr>\n",
       "  </tbody>\n",
       "</table>\n",
       "</div>"
      ],
      "text/plain": [
       "             id  deleted  numTweets  numAuthors  numMentions  numLinks  \\\n",
       "0  8.360000e+17      0.0        2.0         2.0          1.0       0.0   \n",
       "1  8.360000e+17      0.0        3.0         3.0          2.0       1.0   \n",
       "2  8.360000e+17      0.0        1.0         1.0          2.0       0.0   \n",
       "3  8.360000e+17      0.0        2.0         2.0          3.0       0.0   \n",
       "4  8.360000e+17      0.0        8.0         1.0          1.0       0.0   \n",
       "\n",
       "   numPics  numQuotedTweets      avgGap  medianGap  maxGap  duration  \\\n",
       "0      0.0              0.0  104.000000      104.0   104.0     104.0   \n",
       "1      0.0              1.0    5.000000        5.0     8.0      10.0   \n",
       "2      0.0              0.0         NaN        NaN     NaN       NaN   \n",
       "3      2.0              0.0  921.000000      921.0   921.0     921.0   \n",
       "4      2.0              0.0    4.428571        4.0     8.0      31.0   \n",
       "\n",
       "                               authors  \\\n",
       "0           @indianshadab,@kamaalrkhan   \n",
       "1  @RednaxalA,@RonKyle4203,@worldhates   \n",
       "2                     @ShivajiRana1974   \n",
       "3        @TheComedian_13,@john_gibbs48   \n",
       "4                            @mikesonn   \n",
       "\n",
       "                                   mentions type new_type complete  \\\n",
       "0                              @kamaalrkhan    1        1        1   \n",
       "1                    @RednaxalA,@worldhates    2        2        1   \n",
       "2                @SirJadeja,@virendersehwag    1        4        1   \n",
       "3  @KellyannePolls,@TheComedian_13,@sal1948    3       -1        1   \n",
       "4                              @danschoenmn    4       -2        1   \n",
       "\n",
       "   contains_deleted_tweets                                                url  \\\n",
       "0                      NaN  https://twitter.com/indianshadab/status/836269...   \n",
       "1                      NaN  https://twitter.com/RonKyle4203/status/8362692...   \n",
       "2                      NaN  https://twitter.com/ShivajiRana1974/status/836...   \n",
       "3                      NaN  https://twitter.com/john_gibbs48/status/836269...   \n",
       "4                      NaN  https://twitter.com/mikesonn/status/8362692362...   \n",
       "\n",
       "                                                text  \n",
       "0  7:54 AM - 27 Feb 2017 @kamaalrkhan: We always ...  \n",
       "1  9:28 AM - 27 Feb 2017 @RednaxalA: Globalists s...  \n",
       "2  9:38 AM - 27 Feb 2017 @ShivajiRana1974: @viren...  \n",
       "3  6:17 PM - 26 Feb 2017 @TheComedian_13: We will...  \n",
       "4  9:07 AM - 27 Feb 2017 @mikesonn: Sunday salesp...  "
      ]
     },
     "execution_count": 58,
     "metadata": {},
     "output_type": "execute_result"
    }
   ],
   "source": [
    "urls = [item.split('\\n', 1)[0] for item in edited_convs]\n",
    "texts = [item.split('\\n', 1)[1] for item in edited_convs]\n",
    "\n",
    "nrows = subdf.shape[0]\n",
    "\n",
    "subdf['url'] = urls[:nrows]\n",
    "subdf['text'] = texts[:nrows]\n",
    "subdf.head()"
   ]
  },
  {
   "cell_type": "code",
   "execution_count": 59,
   "metadata": {
    "collapsed": false
   },
   "outputs": [],
   "source": [
    "subdf = subdf[~pd.isnull(subdf.new_type)]"
   ]
  },
  {
   "cell_type": "code",
   "execution_count": 68,
   "metadata": {
    "collapsed": false
   },
   "outputs": [
    {
     "name": "stdout",
     "output_type": "stream",
     "text": [
      "1 discussion_of_trolls_from_distance\n",
      "2 vulgar_language\n",
      "3 political_disagreement_attack\n",
      "4 implicit_attack\n",
      "5 friendly_jokes\n"
     ]
    }
   ],
   "source": [
    "# export different types of tweets to separate files\n",
    "d = {'1': 'discussion_of_trolls_from_distance',\n",
    "     '2': 'vulgar_language',\n",
    "     '3': 'political_disagreement_attack',\n",
    "     '4': 'implicit_attack',\n",
    "     '5': 'friendly_jokes'}\n",
    "\n",
    "gby = subdf.groupby('new_type')\n",
    "for i, group in gby:\n",
    "    if d.has_key(i):\n",
    "        print i, d[i]\n",
    "        with open(i+d[i]+'.txt', 'w') as f:\n",
    "            f.writelines('\\n------\\n'.join(group.text))"
   ]
  },
  {
   "cell_type": "markdown",
   "metadata": {},
   "source": [
    "### Conversation statistics by troll type"
   ]
  },
  {
   "cell_type": "code",
   "execution_count": 88,
   "metadata": {
    "collapsed": false
   },
   "outputs": [
    {
     "name": "stdout",
     "output_type": "stream",
     "text": [
      "1 discussion_of_trolls_from_distance avg number of tweets: 3.8 out of 15 converations\n"
     ]
    },
    {
     "data": {
      "image/png": "[encoded data removed]",
      "text/plain": [
       "<matplotlib.figure.Figure at 0x10b3ce410>"
      ]
     },
     "metadata": {},
     "output_type": "display_data"
    },
    {
     "name": "stdout",
     "output_type": "stream",
     "text": [
      "2 vulgar_language avg number of tweets: 4.0 out of 6 converations\n"
     ]
    },
    {
     "data": {
      "image/png": "[encoded data removed]",
      "text/plain": [
       "<matplotlib.figure.Figure at 0x10cc4cd10>"
      ]
     },
     "metadata": {},
     "output_type": "display_data"
    },
    {
     "name": "stdout",
     "output_type": "stream",
     "text": [
      "3 political_disagreement_attack avg number of tweets: 6.89285714286 out of 28 converations\n"
     ]
    },
    {
     "data": {
      "image/png": "[encoded data removed]",
      "text/plain": [
       "<matplotlib.figure.Figure at 0x10ce5c150>"
      ]
     },
     "metadata": {},
     "output_type": "display_data"
    },
    {
     "name": "stdout",
     "output_type": "stream",
     "text": [
      "4 implicit_attack avg number of tweets: 3.33333333333 out of 15 converations\n"
     ]
    },
    {
     "data": {
      "image/png": "[encoded data removed]",
      "text/plain": [
       "<matplotlib.figure.Figure at 0x10d3ac810>"
      ]
     },
     "metadata": {},
     "output_type": "display_data"
    },
    {
     "name": "stdout",
     "output_type": "stream",
     "text": [
      "5 friendly_jokes avg number of tweets: 2.0 out of 2 converations\n"
     ]
    },
    {
     "data": {
      "image/png": "[encoded data removed]",
      "text/plain": [
       "<matplotlib.figure.Figure at 0x10d458250>"
      ]
     },
     "metadata": {},
     "output_type": "display_data"
    }
   ],
   "source": [
    "# number of tweets per conversation\n",
    "for i, group in gby:\n",
    "    if d.has_key(i):\n",
    "        print i, d[i], 'avg number of tweets:', np.mean(group.numTweets), \"out of %s converations\"%group.shape[0]\n",
    "        plt.hist(group.numTweets)\n",
    "        remove_border()\n",
    "        plt.show()"
   ]
  },
  {
   "cell_type": "code",
   "execution_count": 90,
   "metadata": {
    "collapsed": false
   },
   "outputs": [
    {
     "name": "stdout",
     "output_type": "stream",
     "text": [
      "1 discussion_of_trolls_from_distance avg number of authors: 1.93333333333 out of 15 converations\n"
     ]
    },
    {
     "data": {
      "image/png": "[encoded data removed]",
      "text/plain": [
       "<matplotlib.figure.Figure at 0x10d5b1b50>"
      ]
     },
     "metadata": {},
     "output_type": "display_data"
    },
    {
     "name": "stdout",
     "output_type": "stream",
     "text": [
      "2 vulgar_language avg number of authors: 2.16666666667 out of 6 converations\n"
     ]
    },
    {
     "data": {
      "image/png": "[encoded data removed]",
      "text/plain": [
       "<matplotlib.figure.Figure at 0x10c302e10>"
      ]
     },
     "metadata": {},
     "output_type": "display_data"
    },
    {
     "name": "stdout",
     "output_type": "stream",
     "text": [
      "3 political_disagreement_attack avg number of authors: 3.17857142857 out of 28 converations\n"
     ]
    },
    {
     "data": {
      "image/png": "[encoded data removed]",
      "text/plain": [
       "<matplotlib.figure.Figure at 0x10c6c0b50>"
      ]
     },
     "metadata": {},
     "output_type": "display_data"
    },
    {
     "name": "stdout",
     "output_type": "stream",
     "text": [
      "4 implicit_attack avg number of authors: 2.33333333333 out of 15 converations\n"
     ]
    },
    {
     "data": {
      "image/png": "[encoded data removed]",
      "text/plain": [
       "<matplotlib.figure.Figure at 0x10c973f10>"
      ]
     },
     "metadata": {},
     "output_type": "display_data"
    },
    {
     "name": "stdout",
     "output_type": "stream",
     "text": [
      "5 friendly_jokes avg number of authors: 2.0 out of 2 converations\n"
     ]
    },
    {
     "data": {
      "image/png": "[encoded data removed]",
      "text/plain": [
       "<matplotlib.figure.Figure at 0x10b3e7850>"
      ]
     },
     "metadata": {},
     "output_type": "display_data"
    }
   ],
   "source": [
    "# number of authors per conversation\n",
    "for i, group in gby:\n",
    "    if d.has_key(i):\n",
    "        print i, d[i], 'avg number of authors:', np.mean(group.numAuthors), \"out of %s converations\"%group.shape[0]\n",
    "        plt.hist(group.numAuthors)\n",
    "        remove_border()\n",
    "        plt.show()"
   ]
  },
  {
   "cell_type": "code",
   "execution_count": 97,
   "metadata": {
    "collapsed": false
   },
   "outputs": [
    {
     "name": "stdout",
     "output_type": "stream",
     "text": [
      "1 discussion_of_trolls_from_distance avg median gap: 93.0357142857 out of 14 converations\n"
     ]
    },
    {
     "data": {
      "image/png": "[encoded data removed]",
      "text/plain": [
       "<matplotlib.figure.Figure at 0x10b9a2950>"
      ]
     },
     "metadata": {},
     "output_type": "display_data"
    },
    {
     "name": "stdout",
     "output_type": "stream",
     "text": [
      "2 vulgar_language avg median gap: 380.4 out of 5 converations\n"
     ]
    },
    {
     "data": {
      "image/png": "[encoded data removed]",
      "text/plain": [
       "<matplotlib.figure.Figure at 0x10b1c36d0>"
      ]
     },
     "metadata": {},
     "output_type": "display_data"
    },
    {
     "name": "stdout",
     "output_type": "stream",
     "text": [
      "3 political_disagreement_attack avg median gap: 203.928571429 out of 28 converations\n"
     ]
    },
    {
     "data": {
      "image/png": "[encoded data removed]",
      "text/plain": [
       "<matplotlib.figure.Figure at 0x10c05a110>"
      ]
     },
     "metadata": {},
     "output_type": "display_data"
    },
    {
     "name": "stdout",
     "output_type": "stream",
     "text": [
      "4 implicit_attack avg median gap: 428.884615385 out of 13 converations\n"
     ]
    },
    {
     "data": {
      "image/png": "[encoded data removed]",
      "text/plain": [
       "<matplotlib.figure.Figure at 0x10d614610>"
      ]
     },
     "metadata": {},
     "output_type": "display_data"
    },
    {
     "name": "stdout",
     "output_type": "stream",
     "text": [
      "5 friendly_jokes avg median gap: 24368.5 out of 2 converations\n"
     ]
    },
    {
     "data": {
      "image/png": "[encoded data removed]",
      "text/plain": [
       "<matplotlib.figure.Figure at 0x10cc87750>"
      ]
     },
     "metadata": {},
     "output_type": "display_data"
    }
   ],
   "source": [
    "# median gap (in minutes between consecutive tweets) per conversation\n",
    "for i, group in gby:\n",
    "    if d.has_key(i):\n",
    "        group = group[~pd.isnull(group.medianGap)]\n",
    "        print i, d[i], 'avg median gap:', np.mean(group.medianGap), \"out of %s converations\"%group.shape[0]\n",
    "        plt.scatter(group.numTweets, group.medianGap)\n",
    "        plt.ylim(0, 1000)\n",
    "        plt.xlabel('Number of tweets')\n",
    "        plt.ylabel('Median gap')\n",
    "        remove_border()\n",
    "        plt.show()"
   ]
  },
  {
   "cell_type": "code",
   "execution_count": 92,
   "metadata": {
    "collapsed": false
   },
   "outputs": [
    {
     "name": "stdout",
     "output_type": "stream",
     "text": [
      "1 discussion_of_trolls_from_distance avg duration: 195.785714286 out of 14 converations\n"
     ]
    },
    {
     "data": {
      "image/png": "[encoded data removed]",
      "text/plain": [
       "<matplotlib.figure.Figure at 0x10a37ec10>"
      ]
     },
     "metadata": {},
     "output_type": "display_data"
    },
    {
     "name": "stdout",
     "output_type": "stream",
     "text": [
      "2 vulgar_language avg duration: 392.2 out of 5 converations\n"
     ]
    },
    {
     "data": {
      "image/png": "[encoded data removed]",
      "text/plain": [
       "<matplotlib.figure.Figure at 0x10cec5c90>"
      ]
     },
     "metadata": {},
     "output_type": "display_data"
    },
    {
     "name": "stdout",
     "output_type": "stream",
     "text": [
      "3 political_disagreement_attack avg duration: 2996.42857143 out of 28 converations\n"
     ]
    },
    {
     "data": {
      "image/png": "[encoded data removed]",
      "text/plain": [
       "<matplotlib.figure.Figure at 0x10b43f510>"
      ]
     },
     "metadata": {},
     "output_type": "display_data"
    },
    {
     "name": "stdout",
     "output_type": "stream",
     "text": [
      "4 implicit_attack avg duration: 533.615384615 out of 13 converations\n"
     ]
    },
    {
     "data": {
      "image/png": "[encoded data removed]",
      "text/plain": [
       "<matplotlib.figure.Figure at 0x10cb3a6d0>"
      ]
     },
     "metadata": {},
     "output_type": "display_data"
    },
    {
     "name": "stdout",
     "output_type": "stream",
     "text": [
      "5 friendly_jokes avg duration: 24368.5 out of 2 converations\n"
     ]
    },
    {
     "data": {
      "image/png": "[encoded data removed]",
      "text/plain": [
       "<matplotlib.figure.Figure at 0x10cb3afd0>"
      ]
     },
     "metadata": {},
     "output_type": "display_data"
    }
   ],
   "source": [
    "# scatterplot of duration and number of tweets \n",
    "for i, group in gby:\n",
    "    if d.has_key(i):\n",
    "        group = group[~pd.isnull(group.medianGap)]\n",
    "        print i, d[i], 'avg duration:', np.mean(group.duration), \"out of %s converations\"%group.shape[0]\n",
    "        plt.scatter(group.numTweets, group.duration)\n",
    "        plt.xlabel('Number of tweets')\n",
    "        plt.ylabel('Total duration')\n",
    "        plt.ylim(0, 2000)\n",
    "        remove_border()\n",
    "        plt.show()"
   ]
  },
  {
   "cell_type": "code",
   "execution_count": null,
   "metadata": {
    "collapsed": true
   },
   "outputs": [],
   "source": []
  }
 ],
 "metadata": {
  "kernelspec": {
   "display_name": "Python 2",
   "language": "python",
   "name": "python2"
  },
  "language_info": {
   "codemirror_mode": {
    "name": "ipython",
    "version": 2
   },
   "file_extension": ".py",
   "mimetype": "text/x-python",
   "name": "python",
   "nbconvert_exporter": "python",
   "pygments_lexer": "ipython2",
   "version": "2.7.12"
  }
 },
 "nbformat": 4,
 "nbformat_minor": 0
}

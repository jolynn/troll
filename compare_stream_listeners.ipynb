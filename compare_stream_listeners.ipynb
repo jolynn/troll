{
 "cells": [
  {
   "cell_type": "markdown",
   "metadata": {},
   "source": [
    "# Compare Search API\n",
    "\n",
    "See if two stream listeners return the same set of tweets"
   ]
  },
  {
   "cell_type": "code",
   "execution_count": 1,
   "metadata": {
    "collapsed": true
   },
   "outputs": [],
   "source": [
    "import pandas as pd\n",
    "import numpy as np"
   ]
  },
  {
   "cell_type": "code",
   "execution_count": 4,
   "metadata": {
    "collapsed": false
   },
   "outputs": [
    {
     "data": {
      "text/plain": [
       "(30001, 8)"
      ]
     },
     "execution_count": 4,
     "metadata": {},
     "output_type": "execute_result"
    }
   ],
   "source": [
    "df_list = [pd.read_csv('data/us_tweets%i.csv'%i) for i in range(3)]\n",
    "df = pd.concat(df_list)\n",
    "df.shape"
   ]
  },
  {
   "cell_type": "code",
   "execution_count": 5,
   "metadata": {
    "collapsed": false
   },
   "outputs": [
    {
     "data": {
      "text/plain": [
       "(30001, 8)"
      ]
     },
     "execution_count": 5,
     "metadata": {},
     "output_type": "execute_result"
    }
   ],
   "source": [
    "df2_list = [pd.read_csv('data/us_tweets_double%i.csv'%i) for i in range(3)]\n",
    "df2 = pd.concat(df2_list)\n",
    "df2.shape"
   ]
  },
  {
   "cell_type": "code",
   "execution_count": 6,
   "metadata": {
    "collapsed": false
   },
   "outputs": [
    {
     "data": {
      "text/html": [
       "<div>\n",
       "<table border=\"1\" class=\"dataframe\">\n",
       "  <thead>\n",
       "    <tr style=\"text-align: right;\">\n",
       "      <th></th>\n",
       "      <th>date</th>\n",
       "      <th>retweet</th>\n",
       "      <th>text</th>\n",
       "      <th>tweet_id</th>\n",
       "      <th>tweet_place</th>\n",
       "      <th>user_id</th>\n",
       "      <th>user_name</th>\n",
       "      <th>user_place</th>\n",
       "    </tr>\n",
       "  </thead>\n",
       "  <tbody>\n",
       "    <tr>\n",
       "      <th>0</th>\n",
       "      <td>2017-03-12 23:19:32+00:00</td>\n",
       "      <td>1</td>\n",
       "      <td>Who will watch (many rogue) watchdogs that #IC...</td>\n",
       "      <td>'841066156970692608'</td>\n",
       "      <td>NaN</td>\n",
       "      <td>'626682905'</td>\n",
       "      <td>andreakirwan</td>\n",
       "      <td>NaN</td>\n",
       "    </tr>\n",
       "    <tr>\n",
       "      <th>1</th>\n",
       "      <td>2017-03-12 23:19:32+00:00</td>\n",
       "      <td>1</td>\n",
       "      <td>US State Dept thinks Africa’s leading mobile m...</td>\n",
       "      <td>'841066157339750402'</td>\n",
       "      <td>NaN</td>\n",
       "      <td>'393262557'</td>\n",
       "      <td>dnb_paul</td>\n",
       "      <td>Marlow England</td>\n",
       "    </tr>\n",
       "    <tr>\n",
       "      <th>2</th>\n",
       "      <td>2017-03-12 23:19:32+00:00</td>\n",
       "      <td>0</td>\n",
       "      <td>How many children will lose access to basic he...</td>\n",
       "      <td>'841066157297815552'</td>\n",
       "      <td>{u'full_name': u'Arlington, TX', u'url': u'htt...</td>\n",
       "      <td>'28638059'</td>\n",
       "      <td>univtxattorney</td>\n",
       "      <td>ÜT: 33.132113,-96.773015</td>\n",
       "    </tr>\n",
       "    <tr>\n",
       "      <th>3</th>\n",
       "      <td>2017-03-12 23:19:33+00:00</td>\n",
       "      <td>1</td>\n",
       "      <td>I did not resign. Moments ago I was fired. Bei...</td>\n",
       "      <td>'841066158195367938'</td>\n",
       "      <td>NaN</td>\n",
       "      <td>'262991185'</td>\n",
       "      <td>DebRabbai</td>\n",
       "      <td>New York City</td>\n",
       "    </tr>\n",
       "    <tr>\n",
       "      <th>4</th>\n",
       "      <td>2017-03-12 23:19:33+00:00</td>\n",
       "      <td>0</td>\n",
       "      <td>Three tough outs this tournament - Louisville,...</td>\n",
       "      <td>'841066158199586817'</td>\n",
       "      <td>NaN</td>\n",
       "      <td>'632976871'</td>\n",
       "      <td>H2P4ever</td>\n",
       "      <td>NaN</td>\n",
       "    </tr>\n",
       "  </tbody>\n",
       "</table>\n",
       "</div>"
      ],
      "text/plain": [
       "                        date retweet  \\\n",
       "0  2017-03-12 23:19:32+00:00       1   \n",
       "1  2017-03-12 23:19:32+00:00       1   \n",
       "2  2017-03-12 23:19:32+00:00       0   \n",
       "3  2017-03-12 23:19:33+00:00       1   \n",
       "4  2017-03-12 23:19:33+00:00       0   \n",
       "\n",
       "                                                text              tweet_id  \\\n",
       "0  Who will watch (many rogue) watchdogs that #IC...  '841066156970692608'   \n",
       "1  US State Dept thinks Africa’s leading mobile m...  '841066157339750402'   \n",
       "2  How many children will lose access to basic he...  '841066157297815552'   \n",
       "3  I did not resign. Moments ago I was fired. Bei...  '841066158195367938'   \n",
       "4  Three tough outs this tournament - Louisville,...  '841066158199586817'   \n",
       "\n",
       "                                         tweet_place      user_id  \\\n",
       "0                                                NaN  '626682905'   \n",
       "1                                                NaN  '393262557'   \n",
       "2  {u'full_name': u'Arlington, TX', u'url': u'htt...   '28638059'   \n",
       "3                                                NaN  '262991185'   \n",
       "4                                                NaN  '632976871'   \n",
       "\n",
       "        user_name                user_place  \n",
       "0    andreakirwan                       NaN  \n",
       "1        dnb_paul            Marlow England  \n",
       "2  univtxattorney  ÜT: 33.132113,-96.773015  \n",
       "3       DebRabbai             New York City  \n",
       "4        H2P4ever                       NaN  "
      ]
     },
     "execution_count": 6,
     "metadata": {},
     "output_type": "execute_result"
    }
   ],
   "source": [
    "df.head()"
   ]
  },
  {
   "cell_type": "code",
   "execution_count": 7,
   "metadata": {
    "collapsed": false
   },
   "outputs": [
    {
     "data": {
      "text/html": [
       "<div>\n",
       "<table border=\"1\" class=\"dataframe\">\n",
       "  <thead>\n",
       "    <tr style=\"text-align: right;\">\n",
       "      <th></th>\n",
       "      <th>date</th>\n",
       "      <th>retweet</th>\n",
       "      <th>text</th>\n",
       "      <th>tweet_id</th>\n",
       "      <th>tweet_place</th>\n",
       "      <th>user_id</th>\n",
       "      <th>user_name</th>\n",
       "      <th>user_place</th>\n",
       "    </tr>\n",
       "  </thead>\n",
       "  <tbody>\n",
       "    <tr>\n",
       "      <th>0</th>\n",
       "      <td>2017-03-12 23:19:48+00:00</td>\n",
       "      <td>0</td>\n",
       "      <td>Quick observation at the beginning of the Cana...</td>\n",
       "      <td>'841066221810393089'</td>\n",
       "      <td>NaN</td>\n",
       "      <td>'1096451000'</td>\n",
       "      <td>MotownTigres</td>\n",
       "      <td>Michigan</td>\n",
       "    </tr>\n",
       "    <tr>\n",
       "      <th>1</th>\n",
       "      <td>2017-03-12 23:19:48+00:00</td>\n",
       "      <td>0</td>\n",
       "      <td>@POTUS American's don't know TRUE COST of heal...</td>\n",
       "      <td>'841066222972207106'</td>\n",
       "      <td>NaN</td>\n",
       "      <td>'4864171883'</td>\n",
       "      <td>iVote_Trump</td>\n",
       "      <td>NaN</td>\n",
       "    </tr>\n",
       "    <tr>\n",
       "      <th>2</th>\n",
       "      <td>2017-03-12 23:19:48+00:00</td>\n",
       "      <td>0</td>\n",
       "      <td>It will, especially if it is \"Obamacare light\"...</td>\n",
       "      <td>'841066223232258050'</td>\n",
       "      <td>NaN</td>\n",
       "      <td>'703773033404567553'</td>\n",
       "      <td>PanchoFrielSr</td>\n",
       "      <td>NaN</td>\n",
       "    </tr>\n",
       "    <tr>\n",
       "      <th>3</th>\n",
       "      <td>2017-03-12 23:19:48+00:00</td>\n",
       "      <td>1</td>\n",
       "      <td>Securin' our borders isn't racist. Our homes h...</td>\n",
       "      <td>'841066223567683584'</td>\n",
       "      <td>NaN</td>\n",
       "      <td>'1405624226'</td>\n",
       "      <td>little_mitz</td>\n",
       "      <td>Denver, CO | Phoenix, AZ</td>\n",
       "    </tr>\n",
       "    <tr>\n",
       "      <th>4</th>\n",
       "      <td>2017-03-12 23:19:48+00:00</td>\n",
       "      <td>1</td>\n",
       "      <td>3 up, 3 strikeouts for @Duff805. Ian Kinsler i...</td>\n",
       "      <td>'841066224050139137'</td>\n",
       "      <td>NaN</td>\n",
       "      <td>'3122253720'</td>\n",
       "      <td>Isxxsg</td>\n",
       "      <td>Cleveland, OH</td>\n",
       "    </tr>\n",
       "  </tbody>\n",
       "</table>\n",
       "</div>"
      ],
      "text/plain": [
       "                        date retweet  \\\n",
       "0  2017-03-12 23:19:48+00:00       0   \n",
       "1  2017-03-12 23:19:48+00:00       0   \n",
       "2  2017-03-12 23:19:48+00:00       0   \n",
       "3  2017-03-12 23:19:48+00:00       1   \n",
       "4  2017-03-12 23:19:48+00:00       1   \n",
       "\n",
       "                                                text              tweet_id  \\\n",
       "0  Quick observation at the beginning of the Cana...  '841066221810393089'   \n",
       "1  @POTUS American's don't know TRUE COST of heal...  '841066222972207106'   \n",
       "2  It will, especially if it is \"Obamacare light\"...  '841066223232258050'   \n",
       "3  Securin' our borders isn't racist. Our homes h...  '841066223567683584'   \n",
       "4  3 up, 3 strikeouts for @Duff805. Ian Kinsler i...  '841066224050139137'   \n",
       "\n",
       "  tweet_place               user_id      user_name                user_place  \n",
       "0         NaN          '1096451000'   MotownTigres                  Michigan  \n",
       "1         NaN          '4864171883'    iVote_Trump                       NaN  \n",
       "2         NaN  '703773033404567553'  PanchoFrielSr                       NaN  \n",
       "3         NaN          '1405624226'    little_mitz  Denver, CO | Phoenix, AZ  \n",
       "4         NaN          '3122253720'         Isxxsg             Cleveland, OH  "
      ]
     },
     "execution_count": 7,
     "metadata": {},
     "output_type": "execute_result"
    }
   ],
   "source": [
    "df2.head()"
   ]
  },
  {
   "cell_type": "code",
   "execution_count": 10,
   "metadata": {
    "collapsed": false
   },
   "outputs": [
    {
     "name": "stdout",
     "output_type": "stream",
     "text": [
      "29822\n",
      "29823\n"
     ]
    }
   ],
   "source": [
    "# compare tweet_id\n",
    "ids = df.tweet_id.values.tolist()\n",
    "ids2 = df2.tweet_id.values.tolist()\n",
    "\n",
    "one_in_two = [i for i in ids if i in ids2]\n",
    "two_in_one = [i for i in ids2 if i in ids]\n",
    "\n",
    "print len(one_in_two)\n",
    "print len(two_in_one)"
   ]
  },
  {
   "cell_type": "code",
   "execution_count": 11,
   "metadata": {
    "collapsed": false
   },
   "outputs": [
    {
     "data": {
      "text/html": [
       "<div>\n",
       "<table border=\"1\" class=\"dataframe\">\n",
       "  <thead>\n",
       "    <tr style=\"text-align: right;\">\n",
       "      <th></th>\n",
       "      <th>date</th>\n",
       "      <th>retweet</th>\n",
       "      <th>text</th>\n",
       "      <th>tweet_id</th>\n",
       "      <th>tweet_place</th>\n",
       "      <th>user_id</th>\n",
       "      <th>user_name</th>\n",
       "      <th>user_place</th>\n",
       "    </tr>\n",
       "  </thead>\n",
       "  <tbody>\n",
       "    <tr>\n",
       "      <th>145</th>\n",
       "      <td>2017-03-12 23:19:48+00:00</td>\n",
       "      <td>1</td>\n",
       "      <td>3 up, 3 strikeouts for @Duff805. Ian Kinsler i...</td>\n",
       "      <td>'841066224050139137'</td>\n",
       "      <td>NaN</td>\n",
       "      <td>'3122253720'</td>\n",
       "      <td>Isxxsg</td>\n",
       "      <td>Cleveland, OH</td>\n",
       "    </tr>\n",
       "    <tr>\n",
       "      <th>146</th>\n",
       "      <td>2017-03-12 23:19:48+00:00</td>\n",
       "      <td>0</td>\n",
       "      <td>Interested in a #job in #VariousUSCities, US? ...</td>\n",
       "      <td>'841066224544964608'</td>\n",
       "      <td>{u'full_name': u'Manhattan, NY', u'url': u'htt...</td>\n",
       "      <td>'22095564'</td>\n",
       "      <td>tmj_lax_legal</td>\n",
       "      <td>Los Angeles, CA</td>\n",
       "    </tr>\n",
       "    <tr>\n",
       "      <th>147</th>\n",
       "      <td>2017-03-12 23:19:48+00:00</td>\n",
       "      <td>1</td>\n",
       "      <td>Noam Chomsky - 'Requiem For The American Dream...</td>\n",
       "      <td>'841066225061023744'</td>\n",
       "      <td>NaN</td>\n",
       "      <td>'2355293715'</td>\n",
       "      <td>CarlaKrone</td>\n",
       "      <td>NaN</td>\n",
       "    </tr>\n",
       "    <tr>\n",
       "      <th>148</th>\n",
       "      <td>2017-03-12 23:19:48+00:00</td>\n",
       "      <td>1</td>\n",
       "      <td>America's most wanted hacker likes fancy cars ...</td>\n",
       "      <td>'841066225111322625'</td>\n",
       "      <td>NaN</td>\n",
       "      <td>'150051391'</td>\n",
       "      <td>SirBrainer</td>\n",
       "      <td>Via Lactea</td>\n",
       "    </tr>\n",
       "    <tr>\n",
       "      <th>149</th>\n",
       "      <td>2017-03-12 23:19:48+00:00</td>\n",
       "      <td>1</td>\n",
       "      <td>I think this is the most openly racist thing I...</td>\n",
       "      <td>'841066225107099648'</td>\n",
       "      <td>NaN</td>\n",
       "      <td>'551918141'</td>\n",
       "      <td>rpai75</td>\n",
       "      <td>Pittsburgh, PA</td>\n",
       "    </tr>\n",
       "  </tbody>\n",
       "</table>\n",
       "</div>"
      ],
      "text/plain": [
       "                          date retweet  \\\n",
       "145  2017-03-12 23:19:48+00:00       1   \n",
       "146  2017-03-12 23:19:48+00:00       0   \n",
       "147  2017-03-12 23:19:48+00:00       1   \n",
       "148  2017-03-12 23:19:48+00:00       1   \n",
       "149  2017-03-12 23:19:48+00:00       1   \n",
       "\n",
       "                                                  text              tweet_id  \\\n",
       "145  3 up, 3 strikeouts for @Duff805. Ian Kinsler i...  '841066224050139137'   \n",
       "146  Interested in a #job in #VariousUSCities, US? ...  '841066224544964608'   \n",
       "147  Noam Chomsky - 'Requiem For The American Dream...  '841066225061023744'   \n",
       "148  America's most wanted hacker likes fancy cars ...  '841066225111322625'   \n",
       "149  I think this is the most openly racist thing I...  '841066225107099648'   \n",
       "\n",
       "                                           tweet_place       user_id  \\\n",
       "145                                                NaN  '3122253720'   \n",
       "146  {u'full_name': u'Manhattan, NY', u'url': u'htt...    '22095564'   \n",
       "147                                                NaN  '2355293715'   \n",
       "148                                                NaN   '150051391'   \n",
       "149                                                NaN   '551918141'   \n",
       "\n",
       "         user_name       user_place  \n",
       "145         Isxxsg    Cleveland, OH  \n",
       "146  tmj_lax_legal  Los Angeles, CA  \n",
       "147     CarlaKrone              NaN  \n",
       "148     SirBrainer       Via Lactea  \n",
       "149         rpai75   Pittsburgh, PA  "
      ]
     },
     "execution_count": 11,
     "metadata": {},
     "output_type": "execute_result"
    }
   ],
   "source": [
    "df[df.tweet_id.isin(one_in_two)].head()"
   ]
  },
  {
   "cell_type": "code",
   "execution_count": 12,
   "metadata": {
    "collapsed": true
   },
   "outputs": [],
   "source": [
    "df1_1 = pd.read_csv('data/us_tweets0.csv')\n",
    "df2_1 = pd.read_csv('data/us_tweets_double0.csv')"
   ]
  },
  {
   "cell_type": "code",
   "execution_count": 13,
   "metadata": {
    "collapsed": false
   },
   "outputs": [
    {
     "data": {
      "text/html": [
       "<div>\n",
       "<table border=\"1\" class=\"dataframe\">\n",
       "  <thead>\n",
       "    <tr style=\"text-align: right;\">\n",
       "      <th></th>\n",
       "      <th>date</th>\n",
       "      <th>retweet</th>\n",
       "      <th>text</th>\n",
       "      <th>tweet_id</th>\n",
       "      <th>tweet_place</th>\n",
       "      <th>user_id</th>\n",
       "      <th>user_name</th>\n",
       "      <th>user_place</th>\n",
       "    </tr>\n",
       "  </thead>\n",
       "  <tbody>\n",
       "    <tr>\n",
       "      <th>145</th>\n",
       "      <td>2017-03-12 23:19:48+00:00</td>\n",
       "      <td>1</td>\n",
       "      <td>3 up, 3 strikeouts for @Duff805. Ian Kinsler i...</td>\n",
       "      <td>'841066224050139137'</td>\n",
       "      <td>NaN</td>\n",
       "      <td>'3122253720'</td>\n",
       "      <td>Isxxsg</td>\n",
       "      <td>Cleveland, OH</td>\n",
       "    </tr>\n",
       "    <tr>\n",
       "      <th>146</th>\n",
       "      <td>2017-03-12 23:19:48+00:00</td>\n",
       "      <td>0</td>\n",
       "      <td>Interested in a #job in #VariousUSCities, US? ...</td>\n",
       "      <td>'841066224544964608'</td>\n",
       "      <td>{u'full_name': u'Manhattan, NY', u'url': u'htt...</td>\n",
       "      <td>'22095564'</td>\n",
       "      <td>tmj_lax_legal</td>\n",
       "      <td>Los Angeles, CA</td>\n",
       "    </tr>\n",
       "    <tr>\n",
       "      <th>147</th>\n",
       "      <td>2017-03-12 23:19:48+00:00</td>\n",
       "      <td>1</td>\n",
       "      <td>Noam Chomsky - 'Requiem For The American Dream...</td>\n",
       "      <td>'841066225061023744'</td>\n",
       "      <td>NaN</td>\n",
       "      <td>'2355293715'</td>\n",
       "      <td>CarlaKrone</td>\n",
       "      <td>NaN</td>\n",
       "    </tr>\n",
       "    <tr>\n",
       "      <th>148</th>\n",
       "      <td>2017-03-12 23:19:48+00:00</td>\n",
       "      <td>1</td>\n",
       "      <td>America's most wanted hacker likes fancy cars ...</td>\n",
       "      <td>'841066225111322625'</td>\n",
       "      <td>NaN</td>\n",
       "      <td>'150051391'</td>\n",
       "      <td>SirBrainer</td>\n",
       "      <td>Via Lactea</td>\n",
       "    </tr>\n",
       "    <tr>\n",
       "      <th>149</th>\n",
       "      <td>2017-03-12 23:19:48+00:00</td>\n",
       "      <td>1</td>\n",
       "      <td>I think this is the most openly racist thing I...</td>\n",
       "      <td>'841066225107099648'</td>\n",
       "      <td>NaN</td>\n",
       "      <td>'551918141'</td>\n",
       "      <td>rpai75</td>\n",
       "      <td>Pittsburgh, PA</td>\n",
       "    </tr>\n",
       "  </tbody>\n",
       "</table>\n",
       "</div>"
      ],
      "text/plain": [
       "                          date retweet  \\\n",
       "145  2017-03-12 23:19:48+00:00       1   \n",
       "146  2017-03-12 23:19:48+00:00       0   \n",
       "147  2017-03-12 23:19:48+00:00       1   \n",
       "148  2017-03-12 23:19:48+00:00       1   \n",
       "149  2017-03-12 23:19:48+00:00       1   \n",
       "\n",
       "                                                  text              tweet_id  \\\n",
       "145  3 up, 3 strikeouts for @Duff805. Ian Kinsler i...  '841066224050139137'   \n",
       "146  Interested in a #job in #VariousUSCities, US? ...  '841066224544964608'   \n",
       "147  Noam Chomsky - 'Requiem For The American Dream...  '841066225061023744'   \n",
       "148  America's most wanted hacker likes fancy cars ...  '841066225111322625'   \n",
       "149  I think this is the most openly racist thing I...  '841066225107099648'   \n",
       "\n",
       "                                           tweet_place       user_id  \\\n",
       "145                                                NaN  '3122253720'   \n",
       "146  {u'full_name': u'Manhattan, NY', u'url': u'htt...    '22095564'   \n",
       "147                                                NaN  '2355293715'   \n",
       "148                                                NaN   '150051391'   \n",
       "149                                                NaN   '551918141'   \n",
       "\n",
       "         user_name       user_place  \n",
       "145         Isxxsg    Cleveland, OH  \n",
       "146  tmj_lax_legal  Los Angeles, CA  \n",
       "147     CarlaKrone              NaN  \n",
       "148     SirBrainer       Via Lactea  \n",
       "149         rpai75   Pittsburgh, PA  "
      ]
     },
     "execution_count": 13,
     "metadata": {},
     "output_type": "execute_result"
    }
   ],
   "source": [
    "subdf1 = df1_1[145:]\n",
    "subdf1.head()"
   ]
  },
  {
   "cell_type": "code",
   "execution_count": 14,
   "metadata": {
    "collapsed": false
   },
   "outputs": [
    {
     "data": {
      "text/html": [
       "<div>\n",
       "<table border=\"1\" class=\"dataframe\">\n",
       "  <thead>\n",
       "    <tr style=\"text-align: right;\">\n",
       "      <th></th>\n",
       "      <th>date</th>\n",
       "      <th>retweet</th>\n",
       "      <th>text</th>\n",
       "      <th>tweet_id</th>\n",
       "      <th>tweet_place</th>\n",
       "      <th>user_id</th>\n",
       "      <th>user_name</th>\n",
       "      <th>user_place</th>\n",
       "    </tr>\n",
       "  </thead>\n",
       "  <tbody>\n",
       "    <tr>\n",
       "      <th>4</th>\n",
       "      <td>2017-03-12 23:19:48+00:00</td>\n",
       "      <td>1</td>\n",
       "      <td>3 up, 3 strikeouts for @Duff805. Ian Kinsler i...</td>\n",
       "      <td>'841066224050139137'</td>\n",
       "      <td>NaN</td>\n",
       "      <td>'3122253720'</td>\n",
       "      <td>Isxxsg</td>\n",
       "      <td>Cleveland, OH</td>\n",
       "    </tr>\n",
       "    <tr>\n",
       "      <th>5</th>\n",
       "      <td>2017-03-12 23:19:48+00:00</td>\n",
       "      <td>0</td>\n",
       "      <td>Interested in a #job in #VariousUSCities, US? ...</td>\n",
       "      <td>'841066224544964608'</td>\n",
       "      <td>{u'full_name': u'Manhattan, NY', u'url': u'htt...</td>\n",
       "      <td>'22095564'</td>\n",
       "      <td>tmj_lax_legal</td>\n",
       "      <td>Los Angeles, CA</td>\n",
       "    </tr>\n",
       "    <tr>\n",
       "      <th>6</th>\n",
       "      <td>2017-03-12 23:19:48+00:00</td>\n",
       "      <td>1</td>\n",
       "      <td>Noam Chomsky - 'Requiem For The American Dream...</td>\n",
       "      <td>'841066225061023744'</td>\n",
       "      <td>NaN</td>\n",
       "      <td>'2355293715'</td>\n",
       "      <td>CarlaKrone</td>\n",
       "      <td>NaN</td>\n",
       "    </tr>\n",
       "    <tr>\n",
       "      <th>7</th>\n",
       "      <td>2017-03-12 23:19:48+00:00</td>\n",
       "      <td>1</td>\n",
       "      <td>America's most wanted hacker likes fancy cars ...</td>\n",
       "      <td>'841066225111322625'</td>\n",
       "      <td>NaN</td>\n",
       "      <td>'150051391'</td>\n",
       "      <td>SirBrainer</td>\n",
       "      <td>Via Lactea</td>\n",
       "    </tr>\n",
       "    <tr>\n",
       "      <th>8</th>\n",
       "      <td>2017-03-12 23:19:48+00:00</td>\n",
       "      <td>1</td>\n",
       "      <td>I think this is the most openly racist thing I...</td>\n",
       "      <td>'841066225107099648'</td>\n",
       "      <td>NaN</td>\n",
       "      <td>'551918141'</td>\n",
       "      <td>rpai75</td>\n",
       "      <td>Pittsburgh, PA</td>\n",
       "    </tr>\n",
       "  </tbody>\n",
       "</table>\n",
       "</div>"
      ],
      "text/plain": [
       "                        date retweet  \\\n",
       "4  2017-03-12 23:19:48+00:00       1   \n",
       "5  2017-03-12 23:19:48+00:00       0   \n",
       "6  2017-03-12 23:19:48+00:00       1   \n",
       "7  2017-03-12 23:19:48+00:00       1   \n",
       "8  2017-03-12 23:19:48+00:00       1   \n",
       "\n",
       "                                                text              tweet_id  \\\n",
       "4  3 up, 3 strikeouts for @Duff805. Ian Kinsler i...  '841066224050139137'   \n",
       "5  Interested in a #job in #VariousUSCities, US? ...  '841066224544964608'   \n",
       "6  Noam Chomsky - 'Requiem For The American Dream...  '841066225061023744'   \n",
       "7  America's most wanted hacker likes fancy cars ...  '841066225111322625'   \n",
       "8  I think this is the most openly racist thing I...  '841066225107099648'   \n",
       "\n",
       "                                         tweet_place       user_id  \\\n",
       "4                                                NaN  '3122253720'   \n",
       "5  {u'full_name': u'Manhattan, NY', u'url': u'htt...    '22095564'   \n",
       "6                                                NaN  '2355293715'   \n",
       "7                                                NaN   '150051391'   \n",
       "8                                                NaN   '551918141'   \n",
       "\n",
       "       user_name       user_place  \n",
       "4         Isxxsg    Cleveland, OH  \n",
       "5  tmj_lax_legal  Los Angeles, CA  \n",
       "6     CarlaKrone              NaN  \n",
       "7     SirBrainer       Via Lactea  \n",
       "8         rpai75   Pittsburgh, PA  "
      ]
     },
     "execution_count": 14,
     "metadata": {},
     "output_type": "execute_result"
    }
   ],
   "source": [
    "subdf2 = df2_1[4:]\n",
    "subdf2.head()"
   ]
  },
  {
   "cell_type": "code",
   "execution_count": 15,
   "metadata": {
    "collapsed": false
   },
   "outputs": [
    {
     "data": {
      "text/plain": [
       "((9856, 8), (9997, 8))"
      ]
     },
     "execution_count": 15,
     "metadata": {},
     "output_type": "execute_result"
    }
   ],
   "source": [
    "subdf1.shape, subdf2.shape"
   ]
  },
  {
   "cell_type": "code",
   "execution_count": 16,
   "metadata": {
    "collapsed": false
   },
   "outputs": [
    {
     "data": {
      "text/plain": [
       "False"
      ]
     },
     "execution_count": 16,
     "metadata": {},
     "output_type": "execute_result"
    }
   ],
   "source": [
    "subdf1.tweet_id.equals(subdf2.tweet_id[:9856])"
   ]
  },
  {
   "cell_type": "code",
   "execution_count": 17,
   "metadata": {
    "collapsed": false
   },
   "outputs": [
    {
     "data": {
      "text/plain": [
       "(9856, 9856)"
      ]
     },
     "execution_count": 17,
     "metadata": {},
     "output_type": "execute_result"
    }
   ],
   "source": [
    "len(subdf1.tweet_id), len(subdf2.tweet_id[:9856])"
   ]
  },
  {
   "cell_type": "code",
   "execution_count": 24,
   "metadata": {
    "collapsed": false
   },
   "outputs": [
    {
     "data": {
      "text/plain": [
       "9856"
      ]
     },
     "execution_count": 24,
     "metadata": {},
     "output_type": "execute_result"
    }
   ],
   "source": [
    "compare = [subdf1.iloc[i]['tweet_id']==subdf2.iloc[i]['tweet_id'] for i in range(9856)]\n",
    "len(compare)"
   ]
  },
  {
   "cell_type": "code",
   "execution_count": 25,
   "metadata": {
    "collapsed": false
   },
   "outputs": [
    {
     "data": {
      "text/plain": [
       "9843"
      ]
     },
     "execution_count": 25,
     "metadata": {},
     "output_type": "execute_result"
    }
   ],
   "source": [
    "len(set(subdf1.tweet_id.values.tolist()).intersection(set(subdf2.tweet_id.values.tolist())))"
   ]
  },
  {
   "cell_type": "code",
   "execution_count": 26,
   "metadata": {
    "collapsed": false
   },
   "outputs": [
    {
     "name": "stdout",
     "output_type": "stream",
     "text": [
      "'841066224050139137' '841066224050139137'\n",
      "'841066224544964608' '841066224544964608'\n",
      "'841066225061023744' '841066225061023744'\n",
      "'841066225111322625' '841066225111322625'\n",
      "'841066225107099648' '841066225107099648'\n",
      "'841066225996312576' '841066225996312576'\n",
      "'841066226306674688' '841066226306674688'\n",
      "'841066226533224448' '841066226533224448'\n",
      "'841066228005314560' '841066228005314560'\n",
      "'841066228278005760' '841066228278005760'\n",
      "'841066228601016321' '841066228601016321'\n",
      "'841066228718407683' '841066228718407683'\n",
      "'841066229125246977' '841066229125246977'\n",
      "'841066229095886849' '841066228869394432'\n",
      "'841066228869394432' '841066229095886849'\n",
      "'841066229162999809' '841066229162999809'\n",
      "'841066229301358592' '841066229301358592'\n",
      "'841066229729239040' '841066229729239040'\n",
      "'841066232476520449' '841066232476520449'\n",
      "'841066232975642625' '841066232975642625'\n",
      "'841066233252450304' '841066233252450304'\n",
      "'841066232518451200' '841066232518451200'\n",
      "'841066233340547072' '841066233340547072'\n",
      "'841066234586226688' '841066234586226688'\n",
      "'841066234762448896' '841066234762448896'\n",
      "'841066236498870272' '841066236498870272'\n",
      "'841066236452691969' '841066236452691969'\n",
      "'841066236767268865' '841066236767268865'\n",
      "'841066236821790721' '841066236821790721'\n",
      "'841066237375463426' '841066237375463426'\n",
      "'841066237761339392' '841066237761339392'\n",
      "'841066238298210304' '841066238298210304'\n",
      "'841066237752954880' '841066237752954880'\n",
      "'841066238927335424' '841066238927335424'\n",
      "'841066240865140736' '841066240865140736'\n",
      "'841066240466661376' '841066240466661376'\n",
      "'841066240974213121' '841066240974213121'\n",
      "'841066241695612928' '841066241695612928'\n",
      "'841066241779425280' '841066241779425280'\n",
      "'841066242811256832' '841066242811256832'\n",
      "'841066243079692297' '841066243079692297'\n",
      "'841066242890960898' '841066242890960898'\n",
      "'841066243411058688' '841066243411058688'\n",
      "'841066244761669633' '841066244761669633'\n",
      "'841066245680222208' '841066245680222208'\n",
      "'841066245822771200' '841066245822771200'\n",
      "'841066245566877697' '841066245566877697'\n",
      "'841066246355484672' '841066246355484672'\n",
      "'841066247013953536' '841066247013953536'\n",
      "'841066247060103169' '841066247060103169'\n",
      "'841066246384824320' '841066246384824320'\n",
      "'841066247831900160' '841066247831900160'\n",
      "'841066247785660416' '841066247785660416'\n",
      "'841066248289038338' '841066248289038338'\n",
      "'841066247840239617' '841066247840239617'\n",
      "'841066248125444096' '841066248125444096'\n",
      "'841066250050646019' '841066250050646019'\n",
      "'841066249933201409' '841066249933201409'\n",
      "'841066250314928128' '841066250314928128'\n",
      "'841066250545582080' '841066250545582080'\n",
      "'841066250449100805' '841066250449100805'\n",
      "'841066250558103554' '841066250558103554'\n",
      "'841066251145363457' '841066251145363457'\n",
      "'841066251174739970' '841066251174739970'\n",
      "'841066254622429185' '841066254622429185'\n",
      "'841066255197077504' '841066255197077504'\n",
      "'841066254676967425' '841066254676967425'\n",
      "'841066255268368385' '841066255268368385'\n",
      "'841066255675203584' '841066255675203584'\n",
      "'841066257860481029' '841066257860481029'\n",
      "'841066257742995456' '841066257742995456'\n",
      "'841066256992223237' '841066256992223237'\n",
      "'841066258543984640' '841066258543984640'\n",
      "'841066258888085508' '841066258888085508'\n",
      "'841066258741121024' '841066258741121024'\n",
      "'841066258883842049' '841066258883842049'\n",
      "'841066262084124672' '841066262084124672'\n",
      "'841066262579052544' '841066262579052544'\n",
      "'841066263786995712' '841066263786995712'\n",
      "'841066264818774018' '841066264818774018'\n",
      "'841066266060292097' '841066266060292097'\n",
      "'841066265934413825' '841066265934413825'\n",
      "'841066266366361600' '841066266366361600'\n",
      "'841066267163447296' '841066267163447296'\n",
      "'841066267394088961' '841066267394088961'\n",
      "'841066267553476610' '841066267553476610'\n",
      "'841066267838685185' '841066267838685185'\n",
      "'841066267675131904' '841066267675131904'\n",
      "'841066267956170752' '841066267956170752'\n",
      "'841066267574435840' '841066267574435840'\n",
      "'841066268962758656' '841066268962758656'\n",
      "'841066269960953856' '841066269960953856'\n",
      "'841066270263001090' '841066270263001090'\n",
      "'841066270443360256' '841066270443360256'\n",
      "'841066271781322756' '841066271781322756'\n",
      "'841066271890395137' '841066271890395137'\n",
      "'841066272318246913' '841066272318246913'\n",
      "'841066272913788928' '841066272913788928'\n",
      "'841066274444713984' '841066274444713984'\n",
      "'841066274629308416' '841066274629308416'\n"
     ]
    }
   ],
   "source": [
    "for i in range(100):\n",
    "    print subdf1.iloc[i]['tweet_id'], subdf2.iloc[i]['tweet_id']"
   ]
  },
  {
   "cell_type": "code",
   "execution_count": null,
   "metadata": {
    "collapsed": true
   },
   "outputs": [],
   "source": []
  }
 ],
 "metadata": {
  "kernelspec": {
   "display_name": "Python 2",
   "language": "python",
   "name": "python2"
  },
  "language_info": {
   "codemirror_mode": {
    "name": "ipython",
    "version": 2
   },
   "file_extension": ".py",
   "mimetype": "text/x-python",
   "name": "python",
   "nbconvert_exporter": "python",
   "pygments_lexer": "ipython2",
   "version": "2.7.12"
  }
 },
 "nbformat": 4,
 "nbformat_minor": 0
}
